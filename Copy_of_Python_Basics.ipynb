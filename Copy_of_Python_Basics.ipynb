{
  "nbformat": 4,
  "nbformat_minor": 0,
  "metadata": {
    "colab": {
      "provenance": [],
      "gpuType": "T4"
    },
    "kernelspec": {
      "name": "python3",
      "display_name": "Python 3"
    },
    "language_info": {
      "name": "python"
    },
    "accelerator": "GPU"
  },
  "cells": [
    {
      "cell_type": "code",
      "execution_count": null,
      "metadata": {
        "id": "In0CcJ2M--RM"
      },
      "outputs": [],
      "source": []
    },
    {
      "cell_type": "markdown",
      "source": [
        "                                                                Python Basics\n",
        "\n",
        "Q1 - What is Python and why is it popular?\n",
        "\n",
        "Ans - Python is a high-level, interpreted programming language known for its readability and simplicity. It is popular due to its vast libraries, versatility (web development, data science, AI, automation), and strong community support. Its ease of learning and efficiency make it a top choice for beginners and professionals alike.\n",
        "\n",
        "Q2 - What is an interpreter in python?\n",
        "\n",
        "Ans - An interpreter in Python is a program that executes code line by line, converting it into machine-readable instructions. This allows for easy debugging and quick execution without needing compilation.\n",
        "\n",
        "Q3 - What are pre defined keywords in Python?\n",
        "\n",
        "Ans - Predefined keywords in Python are reserved words that have special meanings and cannot be used as variable names, such as `if`, `else`, `while`, `def`, and `import`. These keywords help define Python’s syntax and structure.\n",
        "\n",
        "Q4 - Can keywords be used as variable names?\n",
        "\n",
        "Ans -  No, keywords cannot be used as variable names in Python because they are reserved for specific syntax and functions. Using them as variable names will result in a syntax error.\n",
        "\n",
        "Q5 - What is mutability in Python ?\n",
        "\n",
        "Ans - Mutability in Python refers to whether an object's value can be changed after creation. Mutable objects (e.g., lists, dictionaries) can be modified, while immutable objects (e.g., tuples, strings) cannot.\n",
        "\n",
        "Q6 - Why are lists mutable, but tuples are immutable?\n",
        "\n",
        "Ans - Lists are mutable because they allow modification, like adding, removing, or changing elements after creation. Tuples are immutable because they are designed for fixed data structures, ensuring data integrity and faster performance. This immutability makes tuples hashable, allowing their use as dictionary keys.\n",
        "\n",
        "Q7 - What is the difference between ~==~ and ~is~ operators in Python?\n",
        "\n",
        "Ans - The `==` operator checks for **value equality**, meaning it compares whether two objects have the same value. The `is` operator checks for **identity equality**, meaning it verifies if two variables point to the same memory location. So, `a == b` can be `True` even if `a is b` is `False`, depending on how the objects are stored in memory.\n",
        "\n",
        "Q8 - What are logical operators in Python?\n",
        "\n",
        "Ans - Logical operators in Python are used to combine conditional statements and return Boolean values (`True` or `False`). The three main logical operators are **`and`** (both conditions must be true), **`or`** (at least one condition must be true), and **`not`** (negates the condition). They are commonly used in decision-making and loops.\n",
        "\n",
        "Q9 - What is type casting in Python?\n",
        "\n",
        "Ans - Type casting in Python is the process of converting a variable from one data type to another. It can be done using functions like `int()`, `float()`, `str()`, and `list()`. There are two types: **implicit** (done automatically by Python) and **explicit** (done manually by the programmer).\n",
        "\n",
        "Q10 - What is difference between implicit and explicit type casting?\n",
        "\n",
        "Ans - Implicit type casting is done automatically by Python when converting smaller data types to larger ones (e.g., `int` to `float`) without data loss. Explicit type casting is manually done using functions like `int()`, `float()`, or `str()`, where the programmer controls the conversion. Explicit casting may lead to data loss or errors if not handled properly.\n",
        "\n",
        "Q11 - What is the purpose of conditional statement in Python?\n",
        "\n",
        "Ans - Conditional statements in Python control the flow of execution based on conditions. They use `if`, `elif`, and `else` to execute different blocks of code depending on whether a condition is `True` or `False`. This helps in decision-making and creating dynamic programs.\n",
        "\n",
        "Q12 - How does the elif statement work?\n",
        "\n",
        "Ans - The `elif` statement in Python stands for \"else if\" and is used after an `if` statement to check multiple conditions. If the `if` condition is `False`, Python checks the `elif` condition; if it’s `True`, the corresponding block executes. If none of the conditions are `True`, the optional `else` block (if present) runs.\n",
        "\n",
        "Q13 - What is the difference between for and while loops ?\n",
        "\n",
        "Ans - A `for` loop is used when the number of iterations is known, iterating over sequences like lists or ranges. A `while` loop runs as long as a specified condition remains `True`, making it useful when the number of iterations is unknown. `for` is preferred for definite loops, while `while` is ideal for indefinite loops.\n",
        "\n",
        "Q14 - Describe a scenario where a while loop is more suitable than a for loop ?\n",
        "\n",
        "Ans - A `while` loop is more suitable when the number of iterations is unknown, such as waiting for user input. For example, in a login system, a `while` loop can keep asking for the correct password until the user enters it correctly. This ensures the loop runs dynamically based on a condition rather than a fixed range."
      ],
      "metadata": {
        "id": "akGAgA5X_Fl3"
      }
    },
    {
      "cell_type": "markdown",
      "source": [
        "                                                 Practical Questions"
      ],
      "metadata": {
        "id": "SqHR2eQBPDwc"
      }
    },
    {
      "cell_type": "code",
      "source": [
        "# Q1- Write a Python program to print \"hello, world!\" #\n",
        "\n",
        "\n",
        "print(\"hello, world!\")"
      ],
      "metadata": {
        "colab": {
          "base_uri": "https://localhost:8080/"
        },
        "id": "miZNeKdxO_ng",
        "outputId": "dd741ae3-74ad-43cb-afce-79d69fda33b5"
      },
      "execution_count": null,
      "outputs": [
        {
          "output_type": "stream",
          "name": "stdout",
          "text": [
            "hello, world!\n"
          ]
        }
      ]
    },
    {
      "cell_type": "code",
      "source": [
        "# Q2- Write a python program that displays your name and age.#\n",
        "name = \"Your Name\"\n",
        "age = 26\n",
        "\n",
        "print(\"Name:\", name)\n",
        "print(\"Age:\", age)"
      ],
      "metadata": {
        "colab": {
          "base_uri": "https://localhost:8080/"
        },
        "id": "2-1KOP9tQE9v",
        "outputId": "1316a1a4-9dbf-432b-b6b4-0108c9695259"
      },
      "execution_count": null,
      "outputs": [
        {
          "output_type": "stream",
          "name": "stdout",
          "text": [
            "Name: Your Name\n",
            "Age: 26\n"
          ]
        }
      ]
    },
    {
      "cell_type": "code",
      "source": [
        "#Q3- Write a code to print all the pre-defined keywords in python using the keyword library. #\n",
        "import keyword\n",
        "\n",
        "print(\"Python Keywords:\")\n",
        "print(keyword.kwlist)"
      ],
      "metadata": {
        "colab": {
          "base_uri": "https://localhost:8080/"
        },
        "id": "MPbuS284QuHQ",
        "outputId": "758916dc-921b-4a12-8a01-1af9728de20e"
      },
      "execution_count": null,
      "outputs": [
        {
          "output_type": "stream",
          "name": "stdout",
          "text": [
            "Python Keywords:\n",
            "['False', 'None', 'True', 'and', 'as', 'assert', 'async', 'await', 'break', 'class', 'continue', 'def', 'del', 'elif', 'else', 'except', 'finally', 'for', 'from', 'global', 'if', 'import', 'in', 'is', 'lambda', 'nonlocal', 'not', 'or', 'pass', 'raise', 'return', 'try', 'while', 'with', 'yield']\n"
          ]
        }
      ]
    },
    {
      "cell_type": "code",
      "source": [
        "#Q4 - Write a program that checks if a given word is a python keyword.#\n",
        "import keyword\n",
        "\n",
        "word = input(\"Enter a word: \")\n",
        "\n",
        "if keyword.iskeyword(word):\n",
        "    print(f\"'{word}' is a Python keyword.\")\n",
        "else:\n",
        "    print(f\"'{word}' is not a Python keyword.\")"
      ],
      "metadata": {
        "colab": {
          "base_uri": "https://localhost:8080/"
        },
        "id": "ZKVBHKgVROy5",
        "outputId": "3b275ce8-2d47-4b3a-df10-aeacd93c8ad9"
      },
      "execution_count": null,
      "outputs": [
        {
          "output_type": "stream",
          "name": "stdout",
          "text": [
            "Enter a word: false\n",
            "'false' is not a Python keyword.\n"
          ]
        }
      ]
    },
    {
      "cell_type": "code",
      "source": [
        "#Q5 - Create a list and tuple in python, and demonstrate how attempting to change an element works differently for each.#\n",
        "# Creating a list (mutable)\n",
        "my_list = [1, 2, 3]\n",
        "print(\"Original List:\", my_list)\n",
        "\n",
        "# Modifying an element in the list\n",
        "my_list[1] = 5\n",
        "print(\"Modified List:\", my_list)\n",
        "\n",
        "# Creating a tuple (immutable)\n",
        "my_tuple = (1, 2, 3)\n",
        "print(\"\\nOriginal Tuple:\", my_tuple)\n",
        "\n",
        "# Attempting to modify an element in the tuple (this will raise an error)\n",
        "try:\n",
        "    my_tuple[1] = 5  # Tuples are immutable\n",
        "except TypeError as e:\n",
        "    print(\"Error:\", e)\n"
      ],
      "metadata": {
        "colab": {
          "base_uri": "https://localhost:8080/"
        },
        "id": "yFi9ohoRUii3",
        "outputId": "8f5a74e8-15c1-4e5e-c39b-e46b0099df7d"
      },
      "execution_count": null,
      "outputs": [
        {
          "output_type": "stream",
          "name": "stdout",
          "text": [
            "Original List: [1, 2, 3]\n",
            "Modified List: [1, 5, 3]\n",
            "\n",
            "Original Tuple: (1, 2, 3)\n",
            "Error: 'tuple' object does not support item assignment\n"
          ]
        }
      ]
    },
    {
      "cell_type": "code",
      "source": [
        "#Q6 - Write a function to demonstrate the behaviour of mutable and immutable arguments.#\n",
        "def modify_arguments(mut_list, immut_num):\n",
        "    # Modifying the mutable list\n",
        "    mut_list.append(4)\n",
        "\n",
        "    # Trying to modify the immutable number\n",
        "    immut_num += 10\n",
        "\n",
        "    print(\"Inside function - List:\", mut_list)\n",
        "    print(\"Inside function - Number:\", immut_num)\n",
        "\n",
        "# Creating a mutable list and an immutable integer\n",
        "my_list = [1, 2, 3]\n",
        "my_number = 5\n",
        "\n",
        "print(\"Before function call - List:\", my_list)\n",
        "print(\"Before function call - Number:\", my_number)\n",
        "\n",
        "# Calling the function\n",
        "modify_arguments(my_list, my_number)\n",
        "\n",
        "print(\"After function call - List:\", my_list)  # List is modified\n",
        "print(\"After function call - Number:\", my_number)  # Number remains unchanged\n"
      ],
      "metadata": {
        "colab": {
          "base_uri": "https://localhost:8080/"
        },
        "id": "Ns_87JtJ-AY-",
        "outputId": "875ffdfe-915f-48ed-de01-500f068d64a0"
      },
      "execution_count": null,
      "outputs": [
        {
          "output_type": "stream",
          "name": "stdout",
          "text": [
            "Before function call - List: [1, 2, 3]\n",
            "Before function call - Number: 5\n",
            "Inside function - List: [1, 2, 3, 4]\n",
            "Inside function - Number: 15\n",
            "After function call - List: [1, 2, 3, 4]\n",
            "After function call - Number: 5\n"
          ]
        }
      ]
    },
    {
      "cell_type": "code",
      "source": [
        "#Q7 - Write a program that performs basic arithmetic operations on two user input numbers#\n",
        "# Taking user input\n",
        "num1 = float(input(\"Enter first number: \"))\n",
        "num2 = float(input(\"Enter second number: \"))\n",
        "\n",
        "# Performing arithmetic operations\n",
        "addition = num1 + num2\n",
        "subtraction = num1 - num2\n",
        "multiplication = num1 * num2\n",
        "\n",
        "# Handling division by zero\n",
        "if num2 != 0:\n",
        "    division = num1 / num2\n",
        "else:\n",
        "    division = \"Undefined (cannot divide by zero)\"\n",
        "\n",
        "# Displaying results\n",
        "print(\"\\nResults:\")\n",
        "print(f\"Addition: {addition}\")\n",
        "print(f\"Subtraction: {subtraction}\")\n",
        "print(f\"Multiplication: {multiplication}\")\n",
        "print(f\"Division: {division}\")\n"
      ],
      "metadata": {
        "colab": {
          "base_uri": "https://localhost:8080/"
        },
        "id": "z_4x17Nb_WAi",
        "outputId": "0f6f0903-89db-4a86-f519-174da653a0d9"
      },
      "execution_count": null,
      "outputs": [
        {
          "output_type": "stream",
          "name": "stdout",
          "text": [
            "Enter first number: 2\n",
            "Enter second number: 5\n",
            "\n",
            "Results:\n",
            "Addition: 7.0\n",
            "Subtraction: -3.0\n",
            "Multiplication: 10.0\n",
            "Division: 0.4\n"
          ]
        }
      ]
    },
    {
      "cell_type": "code",
      "source": [
        "#Q8- Write a program to demonstrate the use of logical operators.#\n",
        "# Taking user input\n",
        "a = int(input(\"Enter first number: \"))\n",
        "b = int(input(\"Enter second number: \"))\n",
        "\n",
        "# Logical AND: Both conditions must be True\n",
        "print(\"\\nLogical AND:\")\n",
        "print(f\"Is a greater than 0 and b greater than 0? {a > 0 and b > 0}\")\n",
        "\n",
        "# Logical OR: At least one condition must be True\n",
        "print(\"\\nLogical OR:\")\n",
        "print(f\"Is a greater than 0 or b greater than 0? {a > 0 or b > 0}\")\n",
        "\n",
        "# Logical NOT: Reverses the condition\n",
        "print(\"\\nLogical NOT:\")\n",
        "print(f\"Is a NOT greater than 0? {not (a > 0)}\")\n"
      ],
      "metadata": {
        "colab": {
          "base_uri": "https://localhost:8080/"
        },
        "id": "m20AE8Hn_3fo",
        "outputId": "eb852bee-e5ab-427e-97ad-1f49d82fcd86"
      },
      "execution_count": null,
      "outputs": [
        {
          "output_type": "stream",
          "name": "stdout",
          "text": [
            "Enter first number: 5\n",
            "Enter second number: 6\n",
            "\n",
            "Logical AND:\n",
            "Is a greater than 0 and b greater than 0? True\n",
            "\n",
            "Logical OR:\n",
            "Is a greater than 0 or b greater than 0? True\n",
            "\n",
            "Logical NOT:\n",
            "Is a NOT greater than 0? False\n"
          ]
        }
      ]
    },
    {
      "cell_type": "code",
      "source": [
        "#Q9 - Write a python program to convert user input from string to integer, float and boolean types.#\n",
        "# Taking user input as a string\n",
        "user_input = input(\"Enter a value: \")\n",
        "\n",
        "# Converting to integer\n",
        "try:\n",
        "    int_value = int(user_input)\n",
        "except ValueError:\n",
        "    int_value = \"Cannot convert to int\"\n",
        "\n",
        "# Converting to float\n",
        "try:\n",
        "    float_value = float(user_input)\n",
        "except ValueError:\n",
        "    float_value = \"Cannot convert to float\"\n",
        "\n",
        "# Converting to boolean\n",
        "bool_value = bool(user_input)  # Any non-empty string converts to True\n",
        "\n",
        "# Displaying results\n",
        "print(\"\\nConverted Values:\")\n",
        "print(f\"Integer: {int_value}\")\n",
        "print(f\"Float: {float_value}\")\n",
        "print(f\"Boolean: {bool_value}\")\n"
      ],
      "metadata": {
        "colab": {
          "base_uri": "https://localhost:8080/"
        },
        "id": "3qj7DUJjBL6H",
        "outputId": "a924074c-68b2-4599-eccc-3cf20adda1c9"
      },
      "execution_count": null,
      "outputs": [
        {
          "output_type": "stream",
          "name": "stdout",
          "text": [
            "Enter a value: 58\n",
            "\n",
            "Converted Values:\n",
            "Integer: 58\n",
            "Float: 58.0\n",
            "Boolean: True\n"
          ]
        }
      ]
    },
    {
      "cell_type": "code",
      "source": [
        "#Q10- Write a code to demonstrate type casting with list elements'#\n",
        "# Creating a list with string numbers\n",
        "str_list = [\"10\", \"20\", \"30\", \"40.5\", \"50.7\"]\n",
        "\n",
        "# Converting string elements to integers (where possible)\n",
        "int_list = [int(float(x)) for x in str_list]  # Handling float strings before int conversion\n",
        "\n",
        "# Converting string elements to floats\n",
        "float_list = [float(x) for x in str_list]\n",
        "\n",
        "# Converting elements to boolean\n",
        "bool_list = [bool(x) for x in str_list]  # Non-empty strings convert to True\n",
        "\n",
        "# Displaying results\n",
        "print(\"Original List (Strings):\", str_list)\n",
        "print(\"Converted to Integers:\", int_list)\n",
        "print(\"Converted to Floats:\", float_list)\n",
        "print(\"Converted to Booleans:\", bool_list)\n"
      ],
      "metadata": {
        "colab": {
          "base_uri": "https://localhost:8080/"
        },
        "id": "wGS_yXfrC605",
        "outputId": "eae0a6b0-3441-44a0-ce17-2254b1ffa604"
      },
      "execution_count": null,
      "outputs": [
        {
          "output_type": "stream",
          "name": "stdout",
          "text": [
            "Original List (Strings): ['10', '20', '30', '40.5', '50.7']\n",
            "Converted to Integers: [10, 20, 30, 40, 50]\n",
            "Converted to Floats: [10.0, 20.0, 30.0, 40.5, 50.7]\n",
            "Converted to Booleans: [True, True, True, True, True]\n"
          ]
        }
      ]
    },
    {
      "cell_type": "code",
      "source": [
        "#Q11 - Write a program that checks if a number is positive , negative, or zero.#\n",
        "# Taking user input\n",
        "num = float(input(\"Enter a number: \"))\n",
        "\n",
        "# Checking the condition\n",
        "if num > 0:\n",
        "    print(\"The number is positive.\")\n",
        "elif num < 0:\n",
        "    print(\"The number is negative.\")\n",
        "else:\n",
        "    print(\"The number is zero.\")\n"
      ],
      "metadata": {
        "colab": {
          "base_uri": "https://localhost:8080/"
        },
        "id": "oXOKPxTzDuZx",
        "outputId": "ac7f23bb-81d7-4eeb-f3f1-10ced29552e1"
      },
      "execution_count": null,
      "outputs": [
        {
          "output_type": "stream",
          "name": "stdout",
          "text": [
            "Enter a number: 56\n",
            "The number is positive.\n"
          ]
        }
      ]
    },
    {
      "cell_type": "code",
      "source": [
        "#Q12- Write a loop to print numbers from 1 to 10.#\n",
        "for i in range(1, 11):\n",
        "    print(i)\n"
      ],
      "metadata": {
        "colab": {
          "base_uri": "https://localhost:8080/"
        },
        "id": "1F3KtrWpFbmf",
        "outputId": "ce31e540-7a62-4920-c906-f8e611e1c698"
      },
      "execution_count": null,
      "outputs": [
        {
          "output_type": "stream",
          "name": "stdout",
          "text": [
            "1\n",
            "2\n",
            "3\n",
            "4\n",
            "5\n",
            "6\n",
            "7\n",
            "8\n",
            "9\n",
            "10\n"
          ]
        }
      ]
    },
    {
      "cell_type": "code",
      "source": [
        "#Q13 - Write a program to find the sum of all even numbers between 1 and 50.#\n",
        "# Using a for loop and range with step 2 (to get even numbers)\n",
        "sum_even = sum(range(2, 51, 2))\n",
        "\n",
        "print(\"Sum of all even numbers between 1 and 50:\", sum_even)\n"
      ],
      "metadata": {
        "colab": {
          "base_uri": "https://localhost:8080/"
        },
        "id": "aKQXv4YYGRca",
        "outputId": "e667001e-1c13-4af7-c715-0f72642e9602"
      },
      "execution_count": null,
      "outputs": [
        {
          "output_type": "stream",
          "name": "stdout",
          "text": [
            "Sum of all even numbers between 1 and 50: 650\n"
          ]
        }
      ]
    },
    {
      "cell_type": "code",
      "source": [
        "#Q14- Write a program to reverse a sting using a while loop.#\n",
        "# Taking user input\n",
        "text = input(\"Enter a string: \")\n",
        "\n",
        "# Initializing index and an empty reversed string\n",
        "index = len(text) - 1\n",
        "reversed_text = \"\"\n",
        "\n",
        "# Using a while loop to reverse the string\n",
        "while index >= 0:\n",
        "    reversed_text += text[index]  # Appending characters in reverse order\n",
        "    index -= 1  # Moving to the previous character\n",
        "\n",
        "# Displaying the reversed string\n",
        "print(\"Reversed string:\", reversed_text)\n",
        "\n"
      ],
      "metadata": {
        "colab": {
          "base_uri": "https://localhost:8080/"
        },
        "id": "uLYwtNaYGs_6",
        "outputId": "6efb7fa2-71f0-49ac-8fd5-1026d0a70923"
      },
      "execution_count": null,
      "outputs": [
        {
          "output_type": "stream",
          "name": "stdout",
          "text": [
            "Enter a string: 45\n",
            "Reversed string: 54\n"
          ]
        }
      ]
    },
    {
      "cell_type": "code",
      "source": [
        "#Q15 - Write a python program to calculate the factorial of a number provided by the user using a while loop.#\n",
        "# Taking user input\n",
        "num = int(input(\"Enter a number: \"))\n",
        "\n",
        "# Initializing factorial and counter\n",
        "factorial = 1\n",
        "i = num\n",
        "\n",
        "# Using a while loop to calculate factorial\n",
        "while i > 0:\n",
        "    factorial *= i\n",
        "    i -= 1  # Decreasing the counter\n",
        "\n",
        "# Displaying the result\n",
        "print(f\"Factorial of {num} is {factorial}\")\n"
      ],
      "metadata": {
        "colab": {
          "base_uri": "https://localhost:8080/"
        },
        "id": "Ze0tOwYWIQSf",
        "outputId": "40253aaf-5698-4242-9135-3c4f384538e7"
      },
      "execution_count": null,
      "outputs": [
        {
          "output_type": "stream",
          "name": "stdout",
          "text": [
            "Enter a number: 25\n",
            "Factorial of 25 is 15511210043330985984000000\n"
          ]
        }
      ]
    }
  ]
}